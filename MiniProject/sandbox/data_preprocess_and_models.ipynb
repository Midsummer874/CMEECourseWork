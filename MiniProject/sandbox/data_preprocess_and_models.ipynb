{
 "cells": [
  {
   "cell_type": "code",
   "execution_count": 25,
   "id": "5016d7f4",
   "metadata": {
    "ExecuteTime": {
     "end_time": "2022-11-26T15:17:32.962944Z",
     "start_time": "2022-11-26T15:17:32.948409Z"
    }
   },
   "outputs": [],
   "source": [
    "import pandas as pd\n",
    "import scipy as sc\n",
    "import numpy as np\n",
    "import matplotlib.pylab as pl\n",
    "import matplotlib.pyplot as plt\n",
    "import seaborn as sns # You might need to install this (e.g., pip install seaborn)\n",
    "from scipy.optimize import leastsq\n",
    "from sklearn.metrics import r2_score\n",
    "from lmfit import Minimizer, Parameters, report_fit\n",
    "\n",
    "import warnings\n",
    "warnings.filterwarnings(\"ignore\")\n",
    "\n"
   ]
  },
  {
   "cell_type": "code",
   "execution_count": 26,
   "id": "d0910b2d",
   "metadata": {
    "ExecuteTime": {
     "end_time": "2022-11-26T15:17:33.101339Z",
     "start_time": "2022-11-26T15:17:33.068440Z"
    }
   },
   "outputs": [],
   "source": [
    "df = pd.read_csv(\"../data/LogisticGrowthData.csv\")\n",
    "df.insert(0, \"ID\", df.Species + \"_\" + df.Temp.map(str) + \"_\" + df.Medium + \"_\" + df.Citation)"
   ]
  },
  {
   "cell_type": "code",
   "execution_count": 27,
   "id": "e5df4994",
   "metadata": {
    "ExecuteTime": {
     "end_time": "2022-11-26T15:17:33.221510Z",
     "start_time": "2022-11-26T15:17:33.196387Z"
    }
   },
   "outputs": [],
   "source": [
    "def residuals_logistic(params , Time, PopBio):\n",
    "    N_0, N_max, r = params\n",
    "    predict = N_0 * N_max * np.exp(r * Time) / (N_max + N_0 * (np.exp(r*Time) - 1))\n",
    "    return PopBio - predict\n",
    "\n",
    "def logistic_fit(Time, PopBio):\n",
    "    init_params = [PopBio[0], PopBio[-1], 0.5]\n",
    "    param_lsq = leastsq(residuals_logistic, init_params, args=(Time, PopBio))[0]\n",
    "    N_0, N_max, r = param_lsq\n",
    "    PopBio_pred = N_0 * N_max * np.exp(r * Time) / (N_max + N_0 * (np.exp(r*Time) - 1))\n",
    "    return param_lsq, PopBio_pred\n",
    "\n",
    "def residuals_gompertz(params, t, data):\n",
    "    '''Model a logistic growth and subtract data'''\n",
    "    #Get an ordered dictionary of parameter values\n",
    "    v = params.valuesdict()\n",
    "    #Logistic model\n",
    "    model = v['N_0'] + (v['N_max'] - v['N_0']) * \\\n",
    "    np.exp(-np.exp(v['r_max'] * np.exp(1) * (v['t_lag'] - t) / \\\n",
    "                   ((v['N_max'] - v['N_0']) * np.log(10)) + 1))\n",
    "    #Return residuals\n",
    "    return model - data\n",
    "\n",
    "def Gompertz_fit(Time, PopBio):\n",
    "    #Create object for parameter storing\n",
    "    params_gompertz = Parameters()\n",
    "    # add with tuples: (NAME VALUE VARY MIN  MAX  EXPR  BRUTE_STEP)\n",
    "    params_gompertz.add_many(('N_0', np.log(PopBio)[0] , True, 0, None, None, None),\n",
    "                             ('N_max', np.log(PopBio)[-1], True, 0, None, None, None),\n",
    "                             ('r_max', 0.62, True, None, None, None, None),\n",
    "                             ('t_lag', 5, True, 0, None, None, None))#I see it in the graph\n",
    "\n",
    "    #Create a Minimizer object\n",
    "    minner = Minimizer(residuals_gompertz, params_gompertz, fcn_args=(Time, np.log(PopBio)))\n",
    "    #Perform the minimization\n",
    "    fit_gompertz = minner.minimize()\n",
    "    return fit_gompertz\n",
    "    \n",
    "\n",
    "def cal_AIC(y_true, y_pred , p):\n",
    "    residual = y_true - y_pred \n",
    "    RSS = sum(residual**2)\n",
    "    n = len(y_true)\n",
    "    AIC = n * np.log(RSS/n) + 2*p\n",
    "    return AIC\n",
    "    \n",
    "    \n",
    "def cal_AICC(y_true, y_pred , p):\n",
    "    aic = cal_AIC(y_true, y_pred , p)\n",
    "    n = len(y_true)\n",
    "    AICC = aic + 2*p*(p + 1)/(n - p - 1)\n",
    "    return AICC\n",
    "    \n",
    "# def save_figure_fitting(Time, PopBio, PopBio_pred, fit_name , unit, fileName ):\n",
    "#     plt.scatter( Time, PopBio, label = 'Observation')\n",
    "#     plt.plot(Time, PopBio_pred, label = 'Logistic fit', c = 'r')\n",
    "#     plt.xlabel(\"Time(Hours)\")\n",
    "#     plt.ylabel(\"Population({})\".format(unit))\n",
    "#     plt.legend()\n",
    "#     plt.title(fit_name)\n",
    "#     plt.savefig(fileName, dpi = 500)\n",
    "#     plt.show()"
   ]
  },
  {
   "cell_type": "code",
   "execution_count": 28,
   "id": "f3c31131",
   "metadata": {
    "ExecuteTime": {
     "end_time": "2022-11-26T15:17:33.351525Z",
     "start_time": "2022-11-26T15:17:33.337892Z"
    }
   },
   "outputs": [],
   "source": [
    "ID_set = sorted(set(df['ID']))\n",
    "DFs = []\n",
    "\n",
    "R2_list = []\n",
    "AIC_list = []\n",
    "AICC_list = []\n",
    "\n",
    "logistic_params = []\n",
    "Gompertz_params = []\n",
    "OLS_params = []\n",
    "\n",
    "ID_list = []\n",
    "unit_list = []\n"
   ]
  },
  {
   "cell_type": "code",
   "execution_count": 29,
   "id": "8b662042",
   "metadata": {
    "ExecuteTime": {
     "end_time": "2022-11-26T15:17:36.615067Z",
     "start_time": "2022-11-26T15:17:33.467109Z"
    }
   },
   "outputs": [],
   "source": [
    "DFs = []\n",
    "for i, ID in enumerate(ID_set):\n",
    "    mask = df.ID == ID\n",
    "    ID_df = df[mask].reset_index(drop = True)\n",
    "    unit = df['PopBio_units'][0]\n",
    "    ID_df = ID_df[ID_df['Time'] > 0]\n",
    "    ID_df = ID_df[ID_df['PopBio'] > 0]\n",
    "    ID_df = ID_df.sort_values(\"Time\")\n",
    "    Time = ID_df['Time'].values\n",
    "    PopBio = ID_df['PopBio'].values\n",
    "    \n",
    "    predict_df = pd.DataFrame({'Time': Time, 'PopBio':PopBio })\n",
    "    predict_df['PopBio_units'] = unit\n",
    "    predict_df.insert(0, \"ID\",  ID)\n",
    "    \n",
    "    try:\n",
    "    \n",
    "        # Gompertz model\n",
    "        fit_gompertz = Gompertz_fit(Time, PopBio)\n",
    "        N_0 = fit_gompertz.params['N_0'].value\n",
    "        N_max = fit_gompertz.params['N_max'].value\n",
    "        r_max = fit_gompertz.params['r_max'].value\n",
    "        t_lag = fit_gompertz.params['t_lag'].value\n",
    "\n",
    "        log_PopBio_pred = N_0 + (N_max - N_0) * \\\n",
    "            np.exp(-np.exp(r_max * np.exp(1) * (t_lag - Time) / \\\n",
    "                           ((N_max - N_0) * np.log(10)) + 1))\n",
    "\n",
    "        Gompertz_pred = np.exp(log_PopBio_pred)\n",
    "        Gompertz_r2 = r2_score(PopBio, Gompertz_pred)  \n",
    "        Gompertz_AIC = cal_AIC(PopBio, Gompertz_pred, p = 4)\n",
    "        Gompertz_AICC = cal_AICC(PopBio, Gompertz_pred, p = 4)\n",
    "\n",
    "        # Logistic model\n",
    "        param_lsq, Logistic_pred = logistic_fit(Time, PopBio)\n",
    "        Logistic_r2 = r2_score(PopBio, Logistic_pred)   \n",
    "        Logistic_AIC = cal_AIC(PopBio, Logistic_pred, p = 3)\n",
    "        Logistic_AICC = cal_AICC(PopBio, Logistic_pred, p = 3)\n",
    "\n",
    "        # OLS fit\n",
    "        fit_linear_OLS = np.polyfit(Time, np.log(PopBio), 3) # degree = 3 as this is a cubic \n",
    "        OLS_func = np.poly1d(fit_linear_OLS)\n",
    "        log_PopBio_pred = OLS_func(Time)\n",
    "        OLS_pred = np.exp(log_PopBio_pred)\n",
    "        OLS_r2 = r2_score(PopBio, OLS_pred)\n",
    "        OLS_AIC = cal_AIC(PopBio, OLS_pred, p = 4)\n",
    "        OLS_AICC = cal_AICC(PopBio, OLS_pred, p = 4)\n",
    "        \n",
    "        # summary \n",
    "        predict_df['Gompertz_fit'] = Gompertz_pred\n",
    "        predict_df['Logistic_fit'] = Logistic_pred\n",
    "        predict_df['OLS_fit'] = OLS_pred\n",
    "        DFs.append(predict_df)\n",
    "        unit_list.append(unit)\n",
    "        ID_list.append(ID)\n",
    "        R2_list.append([Gompertz_r2,Logistic_r2, OLS_r2 ])\n",
    "        AIC_list.append([Gompertz_AIC, Logistic_AIC, OLS_AIC])\n",
    "        AICC_list.append([Gompertz_AICC, Logistic_AICC, OLS_AICC])\n",
    "        \n",
    "        Gompertz_params.append([N_0, N_max, r_max, t_lag])\n",
    "        logistic_params.append(param_lsq)\n",
    "        OLS_params.append(fit_linear_OLS)\n",
    "\n",
    "        # fitting figure\n",
    "        length_ID = len(ID)\n",
    "        n_split = 6\n",
    "        row_length = length_ID // n_split\n",
    "        title = []\n",
    "        for i in range(n_split - 1):\n",
    "            title.append(ID[i*row_length :i*row_length+row_length])\n",
    "        title.append(ID[i*row_length+row_length:])\n",
    "        title = '\\n'.join(title)\n",
    "\n",
    "        fileName = \"../results/\"+ ID[:50] + '.png'\n",
    "\n",
    "#         plt.figure(figsize = (7,4))\n",
    "#         plt.scatter( Time, PopBio, label = 'Observation')\n",
    "#         plt.plot(Time, Logistic_pred, label = 'Logistic fit')\n",
    "#         plt.plot(Time, Gompertz_pred, label = 'Gompertz fit')\n",
    "#         plt.plot(Time, OLS_pred, label = 'OLS fit')\n",
    "#         plt.legend()\n",
    "#         plt.xlabel(\"Time(Hours)\")\n",
    "#         plt.ylabel(\"Population({})\".format(unit))\n",
    "#         plt.title(title)\n",
    "#         plt.savefig(fileName, dpi = 500)\n",
    "#         plt.show()\n",
    "    except:\n",
    "        pass"
   ]
  },
  {
   "cell_type": "code",
   "execution_count": null,
   "id": "2666a91b",
   "metadata": {
    "ExecuteTime": {
     "end_time": "2022-11-26T15:16:48.463289Z",
     "start_time": "2022-11-26T15:16:48.405059Z"
    }
   },
   "outputs": [],
   "source": []
  },
  {
   "cell_type": "code",
   "execution_count": null,
   "id": "556633ee",
   "metadata": {
    "ExecuteTime": {
     "end_time": "2022-11-26T15:17:42.697063Z",
     "start_time": "2022-11-26T15:17:42.669007Z"
    }
   },
   "outputs": [],
   "source": []
  },
  {
   "cell_type": "code",
   "execution_count": 30,
   "id": "34bb99af",
   "metadata": {
    "ExecuteTime": {
     "end_time": "2022-11-26T15:17:36.672581Z",
     "start_time": "2022-11-26T15:17:36.616441Z"
    }
   },
   "outputs": [],
   "source": [
    "concat_pred_df = pd.concat(DFs)\n",
    "concat_pred_df.to_csv('../sandbox/prediction_result.csv', index = None)"
   ]
  },
  {
   "cell_type": "code",
   "execution_count": 32,
   "id": "1ffd1041",
   "metadata": {
    "ExecuteTime": {
     "end_time": "2022-11-26T15:17:52.079290Z",
     "start_time": "2022-11-26T15:17:52.054041Z"
    }
   },
   "outputs": [],
   "source": [
    "logistic_param_df = pd.DataFrame(logistic_params, columns = ['N_0', 'N_max', 'r'])\n",
    "logistic_param_df.insert(0,'PopBio_units', unit_list)\n",
    "logistic_param_df.insert(0,'ID', ID_list)\n",
    "logistic_param_df['R-square'] = np.array(R2_list)[:,1]\n",
    "logistic_param_df['AIC'] = np.array(AIC_list)[:,1]\n",
    "logistic_param_df.to_csv(\"../sandbox/Logistic_fit_params_result.csv\", index = None)"
   ]
  },
  {
   "cell_type": "code",
   "execution_count": 33,
   "id": "5e22154c",
   "metadata": {
    "ExecuteTime": {
     "end_time": "2022-11-26T15:17:54.080649Z",
     "start_time": "2022-11-26T15:17:54.056244Z"
    }
   },
   "outputs": [],
   "source": [
    "Gompertz_param_df = pd.DataFrame(Gompertz_params, columns = ['N_0', 'N_max', 'r_max', 't_lag'])\n",
    "Gompertz_param_df.insert(0,'PopBio_units', unit_list)\n",
    "Gompertz_param_df.insert(0,'ID', ID_list)\n",
    "Gompertz_param_df['R-square'] = np.array(R2_list)[:,0]\n",
    "Gompertz_param_df['AIC'] = np.array(AIC_list)[:,0]\n",
    "Gompertz_param_df.to_csv(\"../sandbox/Gompertz_fit_params_result.csv\", index = None)"
   ]
  },
  {
   "cell_type": "code",
   "execution_count": 18,
   "id": "37468380",
   "metadata": {
    "ExecuteTime": {
     "end_time": "2022-11-24T12:38:14.339133Z",
     "start_time": "2022-11-24T12:38:14.330325Z"
    }
   },
   "outputs": [],
   "source": [
    "OLS_param_df = pd.DataFrame(OLS_params, columns = [ 'Time^3', 'Time^2', 'Time', 'constant'])\n",
    "OLS_param_df.insert(0,'PopBio_units', unit_list)\n",
    "OLS_param_df.insert(0,'ID', ID_list)\n",
    "OLS_param_df['R-square'] = np.array(R2_list)[:,-1]\n",
    "OLS_param_df['AIC'] = np.array(AIC_list)[:,-1]\n",
    "OLS_param_df.to_csv(\"../sandbox/OLS_fit_params_result.csv\", index = None)"
   ]
  },
  {
   "cell_type": "code",
   "execution_count": 34,
   "id": "92f99c2d",
   "metadata": {
    "ExecuteTime": {
     "end_time": "2022-11-26T15:18:09.778162Z",
     "start_time": "2022-11-26T15:18:09.755350Z"
    }
   },
   "outputs": [
    {
     "name": "stdout",
     "output_type": "stream",
     "text": [
      "R-square descriptive statistics:\n",
      "         logistic R2   Gompertz R2      OLS R2\n",
      "count     256.000000  2.560000e+02  256.000000\n",
      "mean    -4549.259300  4.038190e-01    0.707242\n",
      "std     37207.308387  8.328781e-01    0.574374\n",
      "min   -440587.364119 -6.445801e+00   -5.945408\n",
      "25%        -9.283264 -5.204726e-12    0.644913\n",
      "50%         0.064611  8.279722e-01    0.876121\n",
      "75%         0.944282  9.824879e-01    0.965826\n",
      "max         0.999494  9.999744e-01    0.999282\n"
     ]
    }
   ],
   "source": [
    "R2_df = pd.DataFrame(R2_list, index = ID_list, columns = ['logistic R2', 'Gompertz R2', 'OLS R2'])\n",
    "print(\"R-square descriptive statistics:\")\n",
    "print(R2_df.describe())"
   ]
  },
  {
   "cell_type": "code",
   "execution_count": 35,
   "id": "f2396d2e",
   "metadata": {
    "ExecuteTime": {
     "end_time": "2022-11-26T15:18:10.181353Z",
     "start_time": "2022-11-26T15:18:10.156022Z"
    }
   },
   "outputs": [
    {
     "name": "stdout",
     "output_type": "stream",
     "text": [
      "AIC descriptive statistics:\n",
      "       logistic AIC  Gompertz AIC      OLS AIC\n",
      "count    256.000000    256.000000   256.000000\n",
      "mean     120.279546     71.627217    75.832056\n",
      "std      260.503789    294.032876   291.141843\n",
      "min     -170.888631   -326.149248  -338.731770\n",
      "25%        2.506050    -99.800599   -70.544378\n",
      "50%       65.893479     58.523064    60.224759\n",
      "75%      118.114798    121.947773   102.923553\n",
      "max     1994.219261   1986.751487  1999.649196\n"
     ]
    }
   ],
   "source": [
    "AIC_df = pd.DataFrame(AIC_list, index = ID_list, columns = ['logistic AIC', 'Gompertz AIC', 'OLS AIC'])\n",
    "print(\"AIC descriptive statistics:\")\n",
    "print(AIC_df.describe())"
   ]
  },
  {
   "cell_type": "code",
   "execution_count": 36,
   "id": "4cabd0d5",
   "metadata": {
    "ExecuteTime": {
     "end_time": "2022-11-26T15:18:56.268918Z",
     "start_time": "2022-11-26T15:18:56.245939Z"
    }
   },
   "outputs": [
    {
     "name": "stdout",
     "output_type": "stream",
     "text": [
      "AICC descriptive statistics:\n",
      "       logistic AICC  Gompertz AICC     OLS AICC\n",
      "count     256.000000     256.000000   256.000000\n",
      "mean      129.968684      75.637110    85.521193\n",
      "std       259.314611     294.001068   290.971154\n",
      "min      -168.031488    -325.058339  -336.992640\n",
      "25%         5.348098     -97.687928   -66.947140\n",
      "50%        80.926621      63.382734    77.914116\n",
      "75%       129.523331     125.883346   118.469357\n",
      "max      1994.493233    1986.914752  1999.923168\n"
     ]
    }
   ],
   "source": [
    "AICC_df = pd.DataFrame(AICC_list, index = ID_list, columns = ['logistic AICC', 'Gompertz AICC', 'OLS AICC'])\n",
    "print(\"AICC descriptive statistics:\")\n",
    "print(AICC_df.describe())"
   ]
  },
  {
   "cell_type": "code",
   "execution_count": null,
   "id": "361308ed",
   "metadata": {},
   "outputs": [],
   "source": []
  }
 ],
 "metadata": {
  "kernelspec": {
   "display_name": "Python 3 (ipykernel)",
   "language": "python",
   "name": "python3"
  },
  "language_info": {
   "codemirror_mode": {
    "name": "ipython",
    "version": 3
   },
   "file_extension": ".py",
   "mimetype": "text/x-python",
   "name": "python",
   "nbconvert_exporter": "python",
   "pygments_lexer": "ipython3",
   "version": "3.9.12"
  },
  "toc": {
   "base_numbering": 1,
   "nav_menu": {},
   "number_sections": true,
   "sideBar": true,
   "skip_h1_title": false,
   "title_cell": "Table of Contents",
   "title_sidebar": "Contents",
   "toc_cell": false,
   "toc_position": {},
   "toc_section_display": true,
   "toc_window_display": false
  }
 },
 "nbformat": 4,
 "nbformat_minor": 5
}
